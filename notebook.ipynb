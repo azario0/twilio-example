{
 "cells": [
  {
   "cell_type": "code",
   "execution_count": null,
   "metadata": {},
   "outputs": [],
   "source": [
    "import random\n",
    "from twilio.rest import Client\n",
    "\n",
    "\n",
    "account_sid = 'VOTRE SID'\n",
    "auth_token = 'VOTRE TOKEN'\n",
    "client = Client(account_sid, auth_token)\n",
    "\n",
    "\n",
    "\n",
    "\n",
    "quotes = [\n",
    "    \"The best and most beautiful things in the world cannot be seen or even touched - they must be felt with the heart. - Helen Keller\",\n",
    "    \"The only way to do great work is to love what you do. If you haven't found it yet, keep looking. Don't settle. - Steve Jobs\",\n",
    "    \"The mind is everything. What you think you become. - Buddha\",\n",
    "    \"Twenty years from now you will be more disappointed by the things that you didn't do than by the ones you did do. So throw off the bowlines, sail away from safe harbor, catch the trade winds in your sails. Explore, Dream, Discover. - Mark Twain\"]\n",
    "\n",
    "\n",
    "random_quote = random.choice(quotes)\n",
    "\n",
    "message = client.messages.create(\n",
    "  from_='VOTRE NUMEROS TWILIO',\n",
    "  body= random_quote,\n",
    "  to='LE NUMEROS UTILISER POUR LA CREATION DU COMPTE TWILIO'\n",
    ")\n",
    "\n",
    "print(f\"Quote sent successfully! Message SID: {message.sid}\")\n"
   ]
  }
 ],
 "metadata": {
  "kernelspec": {
   "display_name": "Python 3",
   "language": "python",
   "name": "python3"
  },
  "language_info": {
   "codemirror_mode": {
    "name": "ipython",
    "version": 3
   },
   "file_extension": ".py",
   "mimetype": "text/x-python",
   "name": "python",
   "nbconvert_exporter": "python",
   "pygments_lexer": "ipython3",
   "version": "3.11.4"
  },
  "orig_nbformat": 4
 },
 "nbformat": 4,
 "nbformat_minor": 2
}
